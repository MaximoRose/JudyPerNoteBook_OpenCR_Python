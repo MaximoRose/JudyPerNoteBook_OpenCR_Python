{
 "metadata": {
  "language_info": {
   "codemirror_mode": {
    "name": "ipython",
    "version": 3
   },
   "file_extension": ".py",
   "mimetype": "text/x-python",
   "name": "python",
   "nbconvert_exporter": "python",
   "pygments_lexer": "ipython3",
   "version": "3.8.5-final"
  },
  "orig_nbformat": 2,
  "kernelspec": {
   "name": "python3",
   "display_name": "Python 3",
   "language": "python"
  }
 },
 "nbformat": 4,
 "nbformat_minor": 2,
 "cells": [
  {
   "source": [
    "# Introduction\n",
    "\n",
    "Petits exercices de démarrage pour me familiariser avec l'interface et les notebooks Jupyter \n",
    "Ces notes ont principalement accompagné les cours de [Openclassrooms](https://openclassrooms.com/fr/courses/6204541-initiez-vous-a-python-pour-lanalyse-de-donnees) qui sont vraiment excellents !\n",
    "Ludique, l'apprentissage n'est pas seulement technique, il est accompagné de methodes, de bonnes pratiques qui seront vraiment utiles pour gagner en efficacite par la suite.\n",
    "\n",
    "_Mes termes en anglais_\n",
    "\n",
    "Mes termes __importants__ \n",
    "\n",
    "1. Liste 1\n",
    "1. Liste 2\n",
    "\n",
    "Les images :\n",
    "![GitHub Logo](https://maximorose.eu/wp-content/uploads/2021/02/image-6.png)\n",
    "\n",
    "Les URL :\n",
    "\n",
    "[GitHub](http://github.com)\n",
    "\n",
    "\n"
   ],
   "cell_type": "markdown",
   "metadata": {}
  },
  {
   "source": [
    "## RUN CODE\n",
    "__Ctrl+Enter__ execute la cellule selectionnee, __Shift+Enter__ runs the currently selected cell and inserts a new cell immediately below (focus moves to new cell), and __Alt+Enter__ runs the currently selected cell and inserts a new cell immediately below (focus remains on current cell). These keyboard combos can be used in both command and edit modes"
   ],
   "cell_type": "markdown",
   "metadata": {}
  },
  {
   "cell_type": "code",
   "execution_count": 5,
   "metadata": {},
   "outputs": [
    {
     "output_type": "stream",
     "name": "stdout",
     "text": [
      "hello world\n"
     ]
    }
   ],
   "source": [
    "msg = \"hello world\"\n",
    "print (msg)"
   ]
  },
  {
   "source": [
    "## SWITCH BETWEEN MARKDOWN AND CODE\n",
    "When a cell is selected and in command mode, the __M key__ switches the cell type to __Markdown__ and the __Y key__ switches the cell type to __code__."
   ],
   "cell_type": "markdown",
   "metadata": {}
  },
  {
   "source": [
    "x=1\n",
    "y=2\n",
    "x=x+y\n",
    "print(x)"
   ],
   "cell_type": "code",
   "metadata": {},
   "execution_count": null,
   "outputs": []
  },
  {
   "cell_type": "code",
   "execution_count": 5,
   "metadata": {},
   "outputs": [],
   "source": [
    "montantCompteCourant = 6000.5\n",
    "montantCompteEpargne = 4000\n",
    "actifsTotaux = montantCompteCourant + montantCompteEpargne\n",
    "nomClient = \"Michael\""
   ]
  },
  {
   "source": [
    "## VARIABLES\n",
    "Si vous stockez une nouvelle valeur dans une variable existante, le type de la variable va changer de lui-même en fonction de la valeur stockée dedans.\n",
    "\n",
    "1. On n'additionne pas int et str\n",
    "\n",
    "1. Les floats s'ecrivent avec un . et pas une ,\n",
    "\n",
    "## OPERATEURS\n",
    "1. %  modulo : retourne le reste de la division euclidienne ;\n",
    "\n",
    "1. **  puissance : permet d’élever un nombre à une certaine puissance ;\n",
    "\n",
    "1. //  division entière : calcule la division entière (chiffre arrondi à l’inférieur).\n",
    "\n",
    "### Operateur simplifies\n",
    "1. -=  pour la soustraction ;\n",
    "\n",
    "1. *=  pour la multiplication ;\n",
    "\n",
    "1. /=  pour la division ;\n",
    "\n",
    "1. %=  pour le reste de la division entière ;\n",
    "\n",
    "etc."
   ],
   "cell_type": "markdown",
   "metadata": {}
  },
  {
   "cell_type": "code",
   "execution_count": 8,
   "metadata": {},
   "outputs": [],
   "source": [
    "prenom = \"Benjamin\"\n",
    "pourcentageActivite = 72.3\n",
    "pourcentageActivite += 1\n",
    "adresse = \"7 Cité Paradis, 75010 Paris\""
   ]
  },
  {
   "source": [
    "## CHAINES DE CHARACTERES (strings)\n",
    "La concatenation : +\n",
    "\n",
    "Caster une variable : str()\n",
    "\n",
    "Renvoyer la longeur : len()\n",
    "\n",
    "Renvoyer le type : type()\n",
    "\n",
    "## Vous voulez un maximum de résultat pour le moins d’efforts possible. \n",
    "\n",
    "1. upper()  : retourne l’ensemble du texte en majuscules ;\n",
    "\n",
    "1. capitalize()  : retourne l’ensemble du texte en minuscules avec la première lettre en majuscule ;\n",
    "\n",
    "1. replace(old, new)  : cette méthode prend deux arguments. old correspond au(x) caractère(s) remplacé(s), new correspond au(x) caractère(s) remplaçant(s) ;\n",
    "\n",
    "1. find(chaîne)  : retourne soit l’indice de la première occurrence de la chaîne passée en argument, soit -1 si elle ne la trouve pas.\n"
   ],
   "cell_type": "markdown",
   "metadata": {}
  },
  {
   "cell_type": "code",
   "execution_count": 1,
   "metadata": {},
   "outputs": [],
   "source": [
    "def remplacerCaracteres(machaine):\n",
    "    return machaine.replace(\"au zoo\",\"en prison\")"
   ]
  },
  {
   "source": [
    "__Bien mettre un espace apres les virgules des paramètres de fonctions__ - les valeurs passées en parametres s'appellent des arguments"
   ],
   "cell_type": "markdown",
   "metadata": {}
  },
  {
   "cell_type": "code",
   "execution_count": 24,
   "metadata": {},
   "outputs": [
    {
     "output_type": "stream",
     "name": "stdout",
     "text": [
      "LES ANIMAUX VIVENT EN PRISON\nles animaux vivent en prison\n4\n"
     ]
    }
   ],
   "source": [
    "msg = remplacerCaracteres(\"les animaux vivent au zoo\")\n",
    "msg.upper()\n",
    "print(msg.upper())\n",
    "print(msg)\n",
    "print(msg.find(\"ani\"))"
   ]
  },
  {
   "source": [
    "help(nomFonction) en cas de doute\n",
    "\n",
    "# Programmation orientée objet\n",
    "Une categorie d'objet, comme la voiture; s'appelle une classe, elle va nous permettre de definir toutes les différentes catégories d'objets qui font les voitures {vitre, roues, moteur}\n",
    "\n",
    "La classe est en quelque sorte un plan de construction de l'objet. Il en définit ses propriétés, sont design, etc.\n",
    "\n",
    "Pour créer un objet, on instancie la classe.\n",
    "\n",
    "Après on pourra s'en servir comme d'une variable et appeler les fonctions qui lui sont propres.\n",
    "\n",
    "Les __méthodes__ sont des fonctions qui ne sont accessibles qu'aux instances d'une classe de données\n",
    "\n",
    "\n",
    "En résumé, une classe correspond au plan d’un objet, définissant ses attributs et ses méthodes. À partir d’une même classe, on peut donc créer plusieurs objets d’un même type, mais aux attributs différents : on appelle cela des instances de classe.\n",
    "\n",
    "## Liste et dictionnaires\n",
    "1. Liste : Des elements ordonnees selon un indice commencant a 0\n",
    "1. Dictionnaire : ordonne des elements par une association (cle, valeur)\n",
    "\n",
    "\n",
    "\n"
   ],
   "cell_type": "markdown",
   "metadata": {}
  },
  {
   "source": [
    "nomsClients = ['Pierre Michel', 'Gerard John', 'Michel Jacques','Herve Poucrave']\n",
    "print(nomsClients[2])\n",
    "#pas d'overflow, mais a eviter:\n",
    "#print(nomsClients[1:5])\n",
    "print(nomsClients[:2])\n",
    "print(nomsClients[-1])"
   ],
   "cell_type": "code",
   "metadata": {},
   "execution_count": 30,
   "outputs": [
    {
     "output_type": "stream",
     "name": "stdout",
     "text": [
      "Michel Jacques\n['Pierre Michel', 'Gerard John']\nHerve Poucrave\n"
     ]
    }
   ]
  },
  {
   "cell_type": "code",
   "execution_count": 34,
   "metadata": {},
   "outputs": [
    {
     "output_type": "stream",
     "name": "stdout",
     "text": [
      "[1, 2, ['Michel', 'pue'], 3]\n"
     ]
    }
   ],
   "source": [
    "uneListeChelou = [1, 2, ['Michel', 'pue'], 3]\n",
    "print(uneListeChelou)"
   ]
  },
  {
   "source": [
    "## Listes Function\n",
    "1. chercher un élément spécifique dans la liste : __liste.index('valeur')__\n",
    "\n",
    "1. ajouter un élément à la fin : __liste.append(monElement)__ ou __liste.extent(monAutreListe)__\n",
    "\n",
    "1. insérer un nouvel élément à un indice spécifique : __liste.insert(indice, element)__\n",
    "\n",
    "1. supprimer un élément de la liste : __liste.remove(valeur)__ ou __del liste{indice} __"
   ],
   "cell_type": "markdown",
   "metadata": {}
  },
  {
   "cell_type": "code",
   "execution_count": 39,
   "metadata": {},
   "outputs": [
    {
     "output_type": "stream",
     "name": "stdout",
     "text": [
      "5\nbeau\nfort\nintelligent\nsexy\nsympa\nthe end\n"
     ]
    }
   ],
   "source": [
    "listmbr = []\n",
    "listmbr.append('beau')\n",
    "listmbr.append('intelligent')\n",
    "listmbr.insert(1, 'fort')\n",
    "listmbr.extend(['sexy', 'sympa'])\n",
    "print(len(listmbr))\n",
    "for qualite in listmbr :\n",
    "    print(qualite)\n",
    "print('the end')\n"
   ]
  },
  {
   "source": [
    "## Dictionnaires Functions\n",
    "Ci-apres nous pouvons constater que Mohamed n'a rien de particulier. Il est dans la moyenne, mais c'est son compte que nous allons controler, parce qu'il s'appelle Mohamed. La societe est ainsi, mon code aussi. Tel est un type de biais simple que l'on peut donner a un code. D'ou l'importance d'[ethic guidelines](https://ec.europa.eu/digital-single-market/en/news/ethics-guidelines-trustworthy-ai)\n"
   ],
   "cell_type": "markdown",
   "metadata": {}
  },
  {
   "cell_type": "code",
   "execution_count": 40,
   "metadata": {},
   "outputs": [
    {
     "output_type": "stream",
     "name": "stdout",
     "text": [
      "1200\n"
     ]
    }
   ],
   "source": [
    "comptes = {\"Jean Paul Poul\" : 1000, 'Michel Jacques' : 1500, 'Mohamed Kisskiss' : 1200}\n",
    "print(comptes['Mohamed Kisskiss'])"
   ]
  },
  {
   "cell_type": "code",
   "execution_count": 50,
   "metadata": {},
   "outputs": [
    {
     "output_type": "stream",
     "name": "stdout",
     "text": [
      "Help on method_descriptor:\n\nget(self, key, default=None, /)\n    Return the value for key if key is in the dictionary, else default.\n\n1215\n1220\n1 compte sur 3 appartient a un Mohamed\n"
     ]
    }
   ],
   "source": [
    "help(dict.get)\n",
    "print(comptes.get('Mohamed Kisskiss'))\n",
    "comptes[\"Mohamed Kisskiss\"]+=5\n",
    "print(comptes['Mohamed Kisskiss'])\n",
    "print(\"1 compte sur \"+str(len(comptes))+\" appartient a un Mohamed\")"
   ]
  },
  {
   "source": [
    "1. accéder à la valeur d’un élément : dictionnaire{\"cle\"}\n",
    "\n",
    "1. ajouter un nouvel élément (valeur-clé) : \n",
    "\n",
    "1. supprimer un élément via sa clé : dictionnaire.pop{\"cle\"}"
   ],
   "cell_type": "markdown",
   "metadata": {}
  }
 ]
}