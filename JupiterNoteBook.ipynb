{
 "metadata": {
  "language_info": {
   "codemirror_mode": {
    "name": "ipython",
    "version": 3
   },
   "file_extension": ".py",
   "mimetype": "text/x-python",
   "name": "python",
   "nbconvert_exporter": "python",
   "pygments_lexer": "ipython3",
   "version": "3.8.5-final"
  },
  "orig_nbformat": 2,
  "kernelspec": {
   "name": "python3",
   "display_name": "Python 3",
   "language": "python"
  }
 },
 "nbformat": 4,
 "nbformat_minor": 2,
 "cells": [
  {
   "source": [
    "# Introduction\n",
    "\n",
    "Petits exercices de démarrage pour me familiariser avec l'interface et les notebooks Jupyter \n",
    "Ces notes ont principalement accompagné les cours de [Openclassrooms](https://openclassrooms.com/fr/courses/6204541-initiez-vous-a-python-pour-lanalyse-de-donnees) qui sont vraiment excellents !\n",
    "Ludique, l'apprentissage n'est pas seulement technique, il est accompagné de methodes, de bonnes pratiques qui seront vraiment utiles pour gagner en efficacite par la suite.\n",
    "\n",
    "_Mes termes en anglais_\n",
    "\n",
    "Mes termes __importants__ \n",
    "\n",
    "1. Liste 1\n",
    "1. Liste 2\n",
    "\n",
    "Les images :\n",
    "![GitHub Logo](https://maximorose.eu/wp-content/uploads/2021/02/image-6.png)\n",
    "\n",
    "Les URL :\n",
    "\n",
    "[GitHub](http://github.com)\n",
    "\n",
    "\n"
   ],
   "cell_type": "markdown",
   "metadata": {}
  },
  {
   "source": [
    "## RUN CODE\n",
    "__Ctrl+Enter__ execute la cellule selectionnee, __Shift+Enter__ runs the currently selected cell and inserts a new cell immediately below (focus moves to new cell), and __Alt+Enter__ runs the currently selected cell and inserts a new cell immediately below (focus remains on current cell). These keyboard combos can be used in both command and edit modes"
   ],
   "cell_type": "markdown",
   "metadata": {}
  },
  {
   "cell_type": "code",
   "execution_count": 5,
   "metadata": {},
   "outputs": [
    {
     "output_type": "stream",
     "name": "stdout",
     "text": [
      "hello world\n"
     ]
    }
   ],
   "source": [
    "msg = \"hello world\"\n",
    "print (msg)"
   ]
  },
  {
   "source": [
    "## SWITCH BETWEEN MARKDOWN AND CODE\n",
    "When a cell is selected and in command mode, the __M key__ switches the cell type to __Markdown__ and the __Y key__ switches the cell type to __code__."
   ],
   "cell_type": "markdown",
   "metadata": {}
  },
  {
   "source": [
    "x=1\n",
    "y=2\n",
    "x=x+y\n",
    "print(x)"
   ],
   "cell_type": "code",
   "metadata": {},
   "execution_count": null,
   "outputs": []
  },
  {
   "cell_type": "code",
   "execution_count": 5,
   "metadata": {},
   "outputs": [],
   "source": [
    "montantCompteCourant = 6000.5\n",
    "montantCompteEpargne = 4000\n",
    "actifsTotaux = montantCompteCourant + montantCompteEpargne\n",
    "nomClient = \"Michael\""
   ]
  },
  {
   "source": [
    "## VARIABLES\n",
    "Si vous stockez une nouvelle valeur dans une variable existante, le type de la variable va changer de lui-même en fonction de la valeur stockée dedans.\n",
    "\n",
    "1. On n'additionne pas int et str\n",
    "\n",
    "1. Les floats s'ecrivent avec un . et pas une ,\n",
    "\n",
    "## OPERATEURS\n",
    "1. %  modulo : retourne le reste de la division euclidienne ;\n",
    "\n",
    "1. **  puissance : permet d’élever un nombre à une certaine puissance ;\n",
    "\n",
    "1. //  division entière : calcule la division entière (chiffre arrondi à l’inférieur).\n",
    "\n",
    "### Operateur simplifies\n",
    "1. -=  pour la soustraction ;\n",
    "\n",
    "1. *=  pour la multiplication ;\n",
    "\n",
    "1. /=  pour la division ;\n",
    "\n",
    "1. %=  pour le reste de la division entière ;\n",
    "\n",
    "etc."
   ],
   "cell_type": "markdown",
   "metadata": {}
  },
  {
   "cell_type": "code",
   "execution_count": 8,
   "metadata": {},
   "outputs": [],
   "source": [
    "prenom = \"Benjamin\"\n",
    "pourcentageActivite = 72.3\n",
    "pourcentageActivite += 1\n",
    "adresse = \"7 Cité Paradis, 75010 Paris\""
   ]
  },
  {
   "source": [
    "## CHAINES DE CHARACTERES (strings)\n",
    "La concatenation : +\n",
    "\n",
    "Caster une variable : str()\n",
    "\n",
    "Renvoyer la longeur : len()\n",
    "\n",
    "Renvoyer le type : type()\n",
    "\n",
    "## Vous voulez un maximum de résultat pour le moins d’efforts possible. \n",
    "\n",
    "1. upper()  : retourne l’ensemble du texte en majuscules ;\n",
    "\n",
    "1. capitalize()  : retourne l’ensemble du texte en minuscules avec la première lettre en majuscule ;\n",
    "\n",
    "1. replace(old, new)  : cette méthode prend deux arguments. old correspond au(x) caractère(s) remplacé(s), new correspond au(x) caractère(s) remplaçant(s) ;\n",
    "\n",
    "1. find(chaîne)  : retourne soit l’indice de la première occurrence de la chaîne passée en argument, soit -1 si elle ne la trouve pas.\n"
   ],
   "cell_type": "markdown",
   "metadata": {}
  },
  {
   "cell_type": "code",
   "execution_count": 1,
   "metadata": {},
   "outputs": [],
   "source": [
    "def remplacerCaracteres(machaine):\n",
    "    return machaine.replace(\"au zoo\",\"en prison\")"
   ]
  },
  {
   "source": [
    "__Bien mettre un espace apres les virgules des paramètres de fonctions__ - les valeurs passées en parametres s'appellent des arguments"
   ],
   "cell_type": "markdown",
   "metadata": {}
  },
  {
   "cell_type": "code",
   "execution_count": 24,
   "metadata": {},
   "outputs": [
    {
     "output_type": "stream",
     "name": "stdout",
     "text": [
      "LES ANIMAUX VIVENT EN PRISON\nles animaux vivent en prison\n4\n"
     ]
    }
   ],
   "source": [
    "msg = remplacerCaracteres(\"les animaux vivent au zoo\")\n",
    "msg.upper()\n",
    "print(msg.upper())\n",
    "print(msg)\n",
    "print(msg.find(\"ani\"))"
   ]
  },
  {
   "source": [
    "help(nomFonction) en cas de doute\n",
    "\n",
    "# Programmation orientée objet\n",
    "Une categorie d'objet, comme la voiture; s'appelle une classe, elle va nous permettre de definir toutes les différentes catégories d'objets qui font les voitures {vitre, roues, moteur}\n",
    "\n",
    "La classe est en quelque sorte un plan de construction de l'objet. Il en définit ses propriétés, sont design, etc.\n",
    "\n",
    "Pour créer un objet, on instancie la classe.\n",
    "\n",
    "Après on pourra s'en servir comme d'une variable et appeler les fonctions qui lui sont propres.\n",
    "\n",
    "Les __méthodes__ sont des fonctions qui ne sont accessibles qu'aux instances d'une classe de données\n",
    "\n",
    "\n",
    "En résumé, une classe correspond au plan d’un objet, définissant ses attributs et ses méthodes. À partir d’une même classe, on peut donc créer plusieurs objets d’un même type, mais aux attributs différents : on appelle cela des instances de classe.\n",
    "\n",
    "## Liste et dictionnaires\n",
    "1. Liste : Des elements ordonnees selon un indice commencant a 0\n",
    "1. Dictionnaire : ordonne des elements par une association (cle, valeur)\n",
    "\n",
    "\n",
    "\n"
   ],
   "cell_type": "markdown",
   "metadata": {}
  },
  {
   "source": [
    "nomsClients = ['Pierre Michel', 'Gerard John', 'Michel Jacques','Herve Poucrave']\n",
    "print(nomsClients[2])\n",
    "#pas d'overflow, mais a eviter:\n",
    "#print(nomsClients[1:5])\n",
    "print(nomsClients[:2])\n",
    "print(nomsClients[-1])"
   ],
   "cell_type": "code",
   "metadata": {},
   "execution_count": 30,
   "outputs": [
    {
     "output_type": "stream",
     "name": "stdout",
     "text": [
      "Michel Jacques\n['Pierre Michel', 'Gerard John']\nHerve Poucrave\n"
     ]
    }
   ]
  },
  {
   "cell_type": "code",
   "execution_count": 34,
   "metadata": {},
   "outputs": [
    {
     "output_type": "stream",
     "name": "stdout",
     "text": [
      "[1, 2, ['Michel', 'pue'], 3]\n"
     ]
    }
   ],
   "source": [
    "uneListeChelou = [1, 2, ['Michel', 'pue'], 3]\n",
    "print(uneListeChelou)"
   ]
  },
  {
   "source": [
    "## Listes Function\n",
    "1. chercher un élément spécifique dans la liste : __liste.index('valeur')__\n",
    "\n",
    "1. ajouter un élément à la fin : __liste.append(monElement)__ ou __liste.extent(monAutreListe)__\n",
    "\n",
    "1. insérer un nouvel élément à un indice spécifique : __liste.insert(indice, element)__\n",
    "\n",
    "1. supprimer un élément de la liste : __liste.remove(valeur)__ ou __del liste{indice} __"
   ],
   "cell_type": "markdown",
   "metadata": {}
  },
  {
   "cell_type": "code",
   "execution_count": 39,
   "metadata": {},
   "outputs": [
    {
     "output_type": "stream",
     "name": "stdout",
     "text": [
      "5\nbeau\nfort\nintelligent\nsexy\nsympa\nthe end\n"
     ]
    }
   ],
   "source": [
    "listmbr = []\n",
    "listmbr.append('beau')\n",
    "listmbr.append('intelligent')\n",
    "listmbr.insert(1, 'fort')\n",
    "listmbr.extend(['sexy', 'sympa'])\n",
    "print(len(listmbr))\n",
    "for qualite in listmbr :\n",
    "    print(qualite)\n",
    "print('the end')\n"
   ]
  },
  {
   "source": [
    "## Dictionnaires Functions\n",
    "Ci-apres nous pouvons constater que Mohamed n'a rien de particulier. Il est dans la moyenne, mais c'est son compte que nous allons controler, parce qu'il s'appelle Mohamed. La societe est ainsi, mon code aussi. Tel est un type de biais simple que l'on peut donner a un code. D'ou l'importance d'[ethic guidelines](https://ec.europa.eu/digital-single-market/en/news/ethics-guidelines-trustworthy-ai)\n"
   ],
   "cell_type": "markdown",
   "metadata": {}
  },
  {
   "cell_type": "code",
   "execution_count": 40,
   "metadata": {},
   "outputs": [
    {
     "output_type": "stream",
     "name": "stdout",
     "text": [
      "1200\n"
     ]
    }
   ],
   "source": [
    "comptes = {\"Jean Paul Poul\" : 1000, 'Michel Jacques' : 1500, 'Mohamed Kisskiss' : 1200}\n",
    "print(comptes['Mohamed Kisskiss'])"
   ]
  },
  {
   "cell_type": "code",
   "execution_count": 50,
   "metadata": {},
   "outputs": [
    {
     "output_type": "stream",
     "name": "stdout",
     "text": [
      "Help on method_descriptor:\n\nget(self, key, default=None, /)\n    Return the value for key if key is in the dictionary, else default.\n\n1215\n1220\n1 compte sur 3 appartient a un Mohamed\n"
     ]
    }
   ],
   "source": [
    "help(dict.get)\n",
    "print(comptes.get('Mohamed Kisskiss'))\n",
    "comptes[\"Mohamed Kisskiss\"]+=5\n",
    "print(comptes['Mohamed Kisskiss'])\n",
    "print(\"1 compte sur \"+str(len(comptes))+\" appartient a un Mohamed\")"
   ]
  },
  {
   "source": [
    "1. accéder à la valeur d’un élément : dictionnaire{\"cle\"}\n",
    "\n",
    "1. ajouter un nouvel élément (valeur-clé) : \n",
    "\n",
    "1. supprimer un élément via sa clé : dictionnaire.pop{\"cle\"}\n",
    "\n",
    "### Pouvoir commit dans Git :\n",
    "D'abord definir au niveau de l'OS le pseudo et l'email de dev qui depose :\n",
    "\n",
    "git config --global user.name \"Your Name\"\n",
    "\n",
    "git config --global user.email \"youremail@yourdomain.com\""
   ],
   "cell_type": "markdown",
   "metadata": {}
  },
  {
   "cell_type": "code",
   "execution_count": 2,
   "metadata": {},
   "outputs": [
    {
     "output_type": "stream",
     "name": "stdout",
     "text": [
      "Hello Maximo!\n"
     ]
    }
   ],
   "source": [
    "nomUser = input('Watcho name ?')\n",
    "\n",
    "if len(nomUser)>0 :\n",
    "    print('Hello '+nomUser+'!')\n",
    "else :\n",
    "    print('Hello world')"
   ]
  },
  {
   "source": [
    "2 == 2 # -> True"
   ],
   "cell_type": "markdown",
   "metadata": {}
  },
  {
   "cell_type": "code",
   "execution_count": 8,
   "metadata": {},
   "outputs": [
    {
     "output_type": "stream",
     "name": "stdout",
     "text": [
      "a\nc\nd\nc\nassez d'essais !\n"
     ]
    }
   ],
   "source": [
    "compteur = 0\n",
    "maListeInt = [1, 2, 3]\n",
    "maListeStr = ['a', 'c', 'd', 'c']\n",
    "if ('b' in maListeStr) :\n",
    "    print(\"If you can't see me, you can't catch me !\")\n",
    "else :\n",
    "    for lettres in maListeStr:\n",
    "        print(lettres)\n",
    "    #compteur++ ne fonctionne pas :)\n",
    "    compteur+=1\n",
    "if compteur==1:\n",
    "    print(\"assez d'essais !\")\n",
    "\n"
   ]
  },
  {
   "source": [
    "## For Loops\n",
    "![Logigramme For Loop python](https://user.oc-static.com/upload/2019/05/16/15580082367739_loop%20graph%20fr.png)"
   ],
   "cell_type": "markdown",
   "metadata": {}
  },
  {
   "cell_type": "code",
   "execution_count": 11,
   "metadata": {},
   "outputs": [
    {
     "output_type": "stream",
     "name": "stdout",
     "text": [
      "01234\n01234\n01234\n024\n"
     ]
    }
   ],
   "source": [
    "myStr = ''\n",
    "for i in range(0, 5, 1):\n",
    "    myStr = myStr + str(i)\n",
    "print(myStr)\n",
    "\n",
    "myStr = ''  \n",
    "for i in range(0, 5):\n",
    "    myStr = myStr + str(i)\n",
    "print(myStr)\n",
    "\n",
    "myStr = '' \n",
    "for i in range(5):\n",
    "    myStr = myStr + str(i)\n",
    "print(myStr)\n",
    "\n",
    "myStr = ''\n",
    "for i in range(0, 5, 2):\n",
    "    myStr = myStr + str(i)\n",
    "print(myStr)"
   ]
  },
  {
   "cell_type": "code",
   "execution_count": 15,
   "metadata": {},
   "outputs": [
    {
     "output_type": "stream",
     "name": "stdout",
     "text": [
      "9 arbres cachent la foret\n"
     ]
    }
   ],
   "source": [
    "nombreArbres = 0\n",
    "\n",
    "while nombreArbres < 9:\n",
    "    nombreArbres+=1\n",
    "\n",
    "print(str(nombreArbres)+' arbres cachent la foret')"
   ]
  },
  {
   "source": [
    "## Interrompre/skipper une boucle for"
   ],
   "cell_type": "markdown",
   "metadata": {}
  },
  {
   "cell_type": "code",
   "execution_count": 17,
   "metadata": {},
   "outputs": [
    {
     "output_type": "stream",
     "name": "stdout",
     "text": [
      "My eye for an i : 0\nMy eye for an i : 1\nJust to let you know, I am passing over 2\nMy eye for an i : 3\nJust to let you know, I am passing over 4\n"
     ]
    }
   ],
   "source": [
    "for i in range(5):\n",
    "    if (i==2) or (i==4):\n",
    "        print('Just to let you know, I am passing over '+str(i))\n",
    "        continue\n",
    "    print('My eye for an i : '+str (i))\n"
   ]
  },
  {
   "cell_type": "code",
   "execution_count": 19,
   "metadata": {},
   "outputs": [
    {
     "output_type": "stream",
     "name": "stdout",
     "text": [
      "Je les aie ! Que ca reste entre vous et moi ;)\n"
     ]
    }
   ],
   "source": [
    "bodyParts = [\"poitrine\", \"fesses\", \"ventre\", \"jambe\"]\n",
    "\n",
    "for part in bodyParts:\n",
    "    if part == \"fesses\":\n",
    "        print(\"Je les aie ! Que ca reste entre vous et moi ;)\")\n",
    "        break"
   ]
  },
  {
   "source": [
    "## Creer des modules\n",
    " Creer un fichier.py dans le repertoire local commencant par :\n",
    "\n",
    "'''\n",
    "\n",
    "Module fichier.py\n",
    "\n",
    "'''\n",
    "\n",
    "(en vré, spa nécessR, mais ballec. Convention sympa. C'est pas necessaire de se serrer la pince, et pourtant on le fait)"
   ],
   "cell_type": "markdown",
   "metadata": {}
  },
  {
   "cell_type": "code",
   "execution_count": 25,
   "metadata": {},
   "outputs": [],
   "source": [
    "import geometrie as geo"
   ]
  },
  {
   "cell_type": "code",
   "execution_count": 26,
   "metadata": {},
   "outputs": [
    {
     "output_type": "stream",
     "name": "stdout",
     "text": [
      "3.14159265359\n"
     ]
    },
    {
     "output_type": "execute_result",
     "data": {
      "text/plain": [
       "16"
      ]
     },
     "metadata": {},
     "execution_count": 26
    }
   ],
   "source": [
    "car = geo.carre(4)\n",
    "tri = geo.triangle(3, 6, 5)\n",
    "\n",
    "print(geo.pi) # -> 3.14159265359\n",
    "\n",
    "geo.aire(car) # -> 16"
   ]
  },
  {
   "source": [
    "On aurait aussi pu simplement importer certaines variables, avec :\n",
    "\n",
    "_from geometry import pi_\n",
    "\n",
    "# Packages\n",
    "Un package est simplement un dossier contenant plusieurs fichiers Python (.py) et un fichier additionnel nommé  __init__.py. Ce dernier différencie un package d’un dossier lambda contenant uniquement des codes Python.\n",
    "\n",
    "![Image de package python](https://user.oc-static.com/upload/2019/05/17/15580964818178_geometry%20fr.png)\n",
    "\n",
    "Auquel on accederait ainsi :\n",
    "\n",
    "import geometry # import all the geometry package\n",
    "\n",
    "_print(geometry.variables.pi) # -> 3.1415..._\n",
    "\n",
    "_car = geometry.classes.carre(4)_\n",
    "\n",
    "_geometry.fonctions.aire(car) # -> 16_"
   ],
   "cell_type": "markdown",
   "metadata": {}
  },
  {
   "cell_type": "code",
   "execution_count": 27,
   "metadata": {},
   "outputs": [
    {
     "output_type": "execute_result",
     "data": {
      "text/plain": [
       "4.0"
      ]
     },
     "metadata": {},
     "execution_count": 27
    }
   ],
   "source": [
    "import numpy as np\n",
    "np.sqrt(16) # -> 4.0"
   ]
  },
  {
   "source": [
    "## Package _maths_ et _random_"
   ],
   "cell_type": "markdown",
   "metadata": {}
  },
  {
   "cell_type": "code",
   "execution_count": 2,
   "metadata": {},
   "outputs": [
    {
     "output_type": "stream",
     "name": "stdout",
     "text": [
      "0.11505210099932217\n0.24277434588492852\n"
     ]
    }
   ],
   "source": [
    "import random\n",
    "\n",
    "for i in range (2):\n",
    "    print(random.random())"
   ]
  },
  {
   "cell_type": "code",
   "execution_count": 30,
   "metadata": {},
   "outputs": [
    {
     "output_type": "stream",
     "name": "stdout",
     "text": [
      "3.9012676606104946\n8\n"
     ]
    }
   ],
   "source": [
    "print(random.uniform(0, 5))\n",
    "print(random.randint(7, 10))"
   ]
  },
  {
   "source": [
    "### gauss(moyenne, écart-type)\n",
    "![Representation d'une Gaussienne](https://user.oc-static.com/upload/2019/05/18/15581932959107_loi%20normale.png)\n",
    "\n",
    "Creer un echantillon sur une moyenne et un ecart-type projetes"
   ],
   "cell_type": "markdown",
   "metadata": {}
  },
  {
   "cell_type": "code",
   "execution_count": 49,
   "metadata": {},
   "outputs": [
    {
     "output_type": "stream",
     "name": "stdout",
     "text": [
      "Valeur 0 = 1.2962032859193995\nValeur 1 = 7.141644418167203\nValeur 2 = 5.828362247671721\nValeur 3 = 4.9498564692151215\nValeur 4 = 2.830661605558981\nValeur 5 = 6.239966849883174\nValeur 6 = 2.147301722672246\nValeur 7 = 6.182866670383683\nValeur 8 = 4.294301598196848\nValeur 9 = 3.864579067494177\nChoix au hasard dans mon sample : 2.147301722672246\nChoix au hasard dans mon sample : 7.141644418167203\nChoix au hasard dans mon sample : 1.2962032859193995\nChoix au hasard dans mon sample : 2.147301722672246\nChoix au hasard dans mon sample : 7.141644418167203\nChoix au hasard dans mon sample : 3.864579067494177\nChoix au hasard dans mon sample : 2.147301722672246\nChoix au hasard dans mon sample : 1.2962032859193995\nChoix au hasard dans mon sample : 3.864579067494177\nChoix au hasard dans mon sample : 2.830661605558981\n[3.864579067494177, 1.2962032859193995]\n[4.294301598196848, 2.830661605558981]\n"
     ]
    }
   ],
   "source": [
    "mySample = []\n",
    "moyenneProjetee = 5\n",
    "ecartTypeProjete = 2.5\n",
    "\n",
    "#Supposons un echantillon de 10 personnes qui suivent une repartition predeterminee\n",
    "for i in range (10) :\n",
    "   mySample.append(random.gauss(moyenneProjetee,ecartTypeProjete))\n",
    "   print('Valeur '+str(i)+' = '+str(mySample[i]))\n",
    "\n",
    "for sample in mySample:\n",
    "    #Affiche un element aleatoire de ma liste de nombres aleatoires afin d'approcher le determinisme par la chance\n",
    "    print('Choix au hasard dans mon sample : '+str(random.choice(mySample)))\n"
   ]
  },
  {
   "source": [
    "## Echantillonnage avec remise\n",
    "Affiche deux elements aleatoires de ma liste, \"avec remise\", comme si on remettait nos carte dans le pioche.\n",
    "\n",
    "C'est a dire que le premier element selectionne est remis dans le tas avant de selectionner le suivant. On peut donc en principe avoir deux fois le meme element.\n",
    "\n",
    "__Les tirages__ sont dits __independants__\n",
    "__L'echantillonnage__ est dit __non exaustif__\n"
   ],
   "cell_type": "markdown",
   "metadata": {}
  },
  {
   "cell_type": "code",
   "execution_count": 50,
   "metadata": {},
   "outputs": [
    {
     "output_type": "stream",
     "name": "stdout",
     "text": [
      "[7.141644418167203, 2.830661605558981]\n"
     ]
    }
   ],
   "source": [
    "print(random.choices(mySample, k=2))"
   ]
  },
  {
   "source": [
    "## Echantillonnage sans remise\n",
    "__Les tirages__ ne sont donc __pas__ vraiment __independants__ puisque le premier tirage influence la totalite du second, donc celle du troisieme aussi, et ainsi de suite. \n",
    "\n",
    "On retrouve presque l'influence du temps sur notre experience et la consolidation d'un habitus Bourdieusiena force de vivre nos vie : ume suite d'evenements entrelaces, interdependants"
   ],
   "cell_type": "markdown",
   "metadata": {}
  },
  {
   "cell_type": "code",
   "execution_count": 51,
   "metadata": {},
   "outputs": [
    {
     "output_type": "stream",
     "name": "stdout",
     "text": [
      "[4.294301598196848, 1.2962032859193995]\n"
     ]
    }
   ],
   "source": [
    "print(random.sample(mySample, k=2))"
   ]
  },
  {
   "source": [
    "\"En analyse de données, cette notion de sous-échantillonnage est primordiale, elle permet de sélectionner un échantillon d’une population initiale. \n",
    "\n",
    "En statistique, un échantillon est un ensemble d’individus représentatifs d’une population. \n",
    "\n",
    "Le recours à un sous-échantillonnage répond en général à une contrainte pratique (manque de temps, de place, coût financier…) ne permettant pas l’étude exhaustive de toute la population.\"\n",
    "\n",
    "[doc. module random](https://docs.python.org/3/library/random.html) pour un max de fonctions !\n",
    "\n",
    "is equivalent to sample(['red', 'red', 'red', 'red', 'blue', 'blue'], k=5)."
   ],
   "cell_type": "markdown",
   "metadata": {}
  },
  {
   "cell_type": "code",
   "execution_count": 59,
   "metadata": {},
   "outputs": [
    {
     "output_type": "stream",
     "name": "stdout",
     "text": [
      "red\nred\nred\nred\nblue\n"
     ]
    }
   ],
   "source": [
    "maListeDeCouleurs = random.sample(['red', 'red', 'red', 'red', 'blue', 'blue'], k=5)\n",
    "\n",
    "for biColor in maListeDeCouleurs:\n",
    "    print(biColor)"
   ]
  },
  {
   "source": [
    "# Je sais maintenant :\n",
    "\n",
    "1. générer un nombre aléatoire, entier ou décimal, dans un intervalle donné ;\n",
    "\n",
    "1. générer un nombre aléatoire suivant une distribution donnée ;\n",
    "\n",
    "1. choisir aléatoirement un ou plusieurs éléments dans une liste, avec ou sans remise.\n",
    "\n",
    "## Exercice\n",
    "\n",
    "__N.B:__ J'ai rate le test la premiere fois. Je ne savais plus comment representer des tirages aleatoires avec des fonctions statistiques. J'avais fait de belles fonctions avec de belles boucles mais elles ne servaient clairement pas l'attendu... Test a refaire, mais les enonces de problemes de stats, ca fait peur 2 ouf.\n",
    "\n",
    "__Todo :__ M'offrir [un rappel des bases statistiques](https://openclassrooms.com/fr/courses/4525296-maitrisez-les-bases-des-probabilites)"
   ],
   "cell_type": "markdown",
   "metadata": {}
  },
  {
   "cell_type": "code",
   "execution_count": 7,
   "metadata": {},
   "outputs": [
    {
     "output_type": "execute_result",
     "data": {
      "text/plain": [
       "10.0"
      ]
     },
     "metadata": {},
     "execution_count": 7
    }
   ],
   "source": [
    "#test exo 1\n",
    "random.uniform(10,10)"
   ]
  },
  {
   "cell_type": "code",
   "execution_count": 20,
   "metadata": {
    "tags": []
   },
   "outputs": [
    {
     "output_type": "stream",
     "name": "stdout",
     "text": [
      "le gain net pour le jeu 1 est de : -17264.8 €\n",
      "le gain net pour le jeu 2 est de : -17217.8 €\n",
      "le gain net pour le jeu 3 est de : 6494.0 €\n"
     ]
    }
   ],
   "source": [
    "import random\n",
    "\n",
    "aP1=0.49\n",
    "def pieceEquilibree():\n",
    "    if random.uniform(0,1) <= 0.5:\n",
    "        return 1\n",
    "    else:\n",
    "        return -1\n",
    "\n",
    "def pieceJeuA():\n",
    "    if random.uniform(0,1) <= 0.49:\n",
    "        return 1\n",
    "    else:\n",
    "        return -1\n",
    "\n",
    "def pieceJeuB1():\n",
    "    if random.uniform(0,1) <= 0.09:\n",
    "        return 1\n",
    "    else:\n",
    "        return -1\n",
    "\n",
    "def pieceJeuB2():\n",
    "    if random.random() <= 0.74:\n",
    "        return 1\n",
    "    else:\n",
    "        return -1\n",
    "\n",
    "# Jeu 1 : Piece biaisee\n",
    "Gain_J1=0.0\n",
    "for i in range(10):\n",
    "    n = 1000000\n",
    "    gain = 0\n",
    "    for i in range(n):\n",
    "        if gain % 3 == 0:\n",
    "            gain += pieceJeuB1()\n",
    "        else:\n",
    "            gain += pieceJeuB2()\n",
    "    Gain_J1 += gain\n",
    "print(\"le gain net pour le jeu 1 est de :\", Gain_J1 /10, \"€\")\n",
    "\n",
    "# Jeu 2 : Piece dependante du gain\n",
    "Gain_J2=0.0\n",
    "for i in range(10):\n",
    "    n = 1000000\n",
    "    gain = 0\n",
    "    for i in range(n):\n",
    "        if gain % 3 == 0:\n",
    "            gain += pieceJeuB1()\n",
    "        else:\n",
    "            gain += pieceJeuB2()\n",
    "    Gain_J2 += gain\n",
    "print(\"le gain net pour le jeu 2 est de :\", Gain_J2 /10, \"€\")\n",
    "\n",
    "# Jeu 3 : alterne entre jeu 1 et jeu 2\n",
    "Gain_J3=0.0\n",
    "for i in range(10):\n",
    "    n = 1000000\n",
    "    gain = 0\n",
    "    for i in range(n):\n",
    "        jeu = pieceEquilibree()\n",
    "        if jeu == 1:\n",
    "            gain += pieceJeuA()\n",
    "        else:\n",
    "            if gain % 3 == 0:\n",
    "                gain += pieceJeuB1()\n",
    "            else:\n",
    "                gain += pieceJeuB2()\n",
    "    Gain_J3 += gain\n",
    "\n",
    "print(\"le gain net pour le jeu 3 est de :\", Gain_J3 /10, \"€\")"
   ]
  },
  {
   "cell_type": "code",
   "execution_count": 13,
   "metadata": {},
   "outputs": [
    {
     "output_type": "stream",
     "name": "stdout",
     "text": [
      "468\n808\n916\n385\n955\n927\n921\n174\n278\n12\n"
     ]
    }
   ],
   "source": [
    "# range(p) produit une suite d'entiers de 0 a p-1\n",
    "population = range(1000) \n",
    "\n",
    "# Nombre de tickets souhaités \n",
    "N = 10\n",
    "\n",
    "# Generer N tickets de loterie qui soient uniques\n",
    "tickets = random.sample(population, k=N)\n",
    "for ticket in tickets:\n",
    "    print(ticket)\n"
   ]
  },
  {
   "cell_type": "code",
   "execution_count": 14,
   "metadata": {},
   "outputs": [
    {
     "output_type": "stream",
     "name": "stdout",
     "text": [
      "0.8812485496738919\n"
     ]
    }
   ],
   "source": [
    "from numpy import random as rnd\n",
    "x = rnd.random()\n",
    "print(x)"
   ]
  }
 ]
}